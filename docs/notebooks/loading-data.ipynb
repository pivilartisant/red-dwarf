{
  "nbformat": 4,
  "nbformat_minor": 0,
  "metadata": {
    "colab": {
      "provenance": [],
      "authorship_tag": "ABX9TyMAEAoWQXlFZO6fRXlczHml",
      "include_colab_link": true
    },
    "kernelspec": {
      "name": "python3",
      "display_name": "Python 3"
    },
    "language_info": {
      "name": "python"
    }
  },
  "cells": [
    {
      "cell_type": "markdown",
      "metadata": {
        "id": "view-in-github",
        "colab_type": "text"
      },
      "source": [
        "<a href=\"https://colab.research.google.com/github/polis-community/red-dwarf/blob/main/docs/notebooks/loading-data.ipynb\" target=\"_parent\"><img src=\"https://colab.research.google.com/assets/colab-badge.svg\" alt=\"Open In Colab\"/></a>"
      ]
    },
    {
      "cell_type": "code",
      "execution_count": 1,
      "metadata": {
        "colab": {
          "base_uri": "https://localhost:8080/"
        },
        "id": "tC1vcZSTqOO0",
        "outputId": "b195eaec-d59a-47a1-8328-bf9738559535"
      },
      "outputs": [
        {
          "output_type": "stream",
          "name": "stdout",
          "text": [
            "  Installing build dependencies ... \u001b[?25l\u001b[?25hdone\n",
            "  Getting requirements to build wheel ... \u001b[?25l\u001b[?25hdone\n",
            "  Preparing metadata (pyproject.toml) ... \u001b[?25l\u001b[?25hdone\n",
            "\u001b[2K   \u001b[90m━━━━━━━━━━━━━━━━━━━━━━━━━━━━━━━━━━━━━━━━\u001b[0m \u001b[32m116.1/116.1 kB\u001b[0m \u001b[31m3.7 MB/s\u001b[0m eta \u001b[36m0:00:00\u001b[0m\n",
            "\u001b[2K   \u001b[90m━━━━━━━━━━━━━━━━━━━━━━━━━━━━━━━━━━━━━━━━\u001b[0m \u001b[32m161.7/161.7 kB\u001b[0m \u001b[31m6.7 MB/s\u001b[0m eta \u001b[36m0:00:00\u001b[0m\n",
            "\u001b[2K   \u001b[90m━━━━━━━━━━━━━━━━━━━━━━━━━━━━━━━━━━━━━━━━\u001b[0m \u001b[32m61.4/61.4 kB\u001b[0m \u001b[31m3.8 MB/s\u001b[0m eta \u001b[36m0:00:00\u001b[0m\n",
            "\u001b[2K   \u001b[90m━━━━━━━━━━━━━━━━━━━━━━━━━━━━━━━━━━━━━━━━\u001b[0m \u001b[32m66.5/66.5 kB\u001b[0m \u001b[31m3.7 MB/s\u001b[0m eta \u001b[36m0:00:00\u001b[0m\n",
            "\u001b[?25h  Building wheel for red-dwarf (pyproject.toml) ... \u001b[?25l\u001b[?25hdone\n"
          ]
        }
      ],
      "source": [
        "%pip install --quiet red-dwarf[all]@git+https://github.com/polis-community/red-dwarf.git@main"
      ]
    },
    {
      "cell_type": "code",
      "source": [
        "# Import the data loader class used for loading all data into a common format.\n",
        "from reddwarf.data_loader import Loader\n",
        "from pprint import pprint"
      ],
      "metadata": {
        "id": "kTDcyFRkxbcJ"
      },
      "execution_count": 51,
      "outputs": []
    },
    {
      "cell_type": "code",
      "source": [
        "def assert_fully_populated(loader, ignore=[]):\n",
        "    \"\"\"A helper to ensure at least one item, and a single key in each data type.\"\"\"\n",
        "    assert len(loader.comments_data) > 0\n",
        "    assert len(loader.votes_data) > 0\n",
        "    if \"math_data\" not in ignore:\n",
        "      assert len(loader.math_data.keys()) > 0\n",
        "    if \"conversation_data\" not in ignore:\n",
        "      assert len(loader.conversation_data.keys()) > 0\n",
        "\n",
        "def print_summary(loader):\n",
        "    print(f\"--- Comment count: {len(loader.comments_data)}\")\n",
        "    print(\"--- First item:\")\n",
        "    pprint(loader.comments_data[:1])\n",
        "    # print(\"--------\")\n",
        "    print(f\"--- Vote count: {len(loader.votes_data)}\")\n",
        "    print(\"--- First item:\")\n",
        "    pprint(loader.votes_data[:1])\n",
        "    # print(\"--------\")\n",
        "    print(f\"--- Math object keys: {list(loader.math_data.keys())}\")\n",
        "    # print(\"--------\")\n",
        "    print(f\"--- Conversation object keys: {list(loader.conversation_data.keys())}\")"
      ],
      "metadata": {
        "id": "3sjWb7JfzlgT"
      },
      "execution_count": 52,
      "outputs": []
    },
    {
      "cell_type": "code",
      "source": [
        "# If you only know the conversation ID, you can fetch the live data from the Polis APIs.\n",
        "# Note that this may be fresher than a static export hosted elsewhere.\n",
        "loader = Loader(polis_id=\"7w338ujx4e\")\n",
        "# If you happen to know the report ID, that can be used instead:\n",
        "#\n",
        "#     loader = Loader(polis_id=\"r5jsvucnwuuhw7dzjvaim\")\n",
        "\n",
        "# All of these are equivalent to the above-mentioned:\n",
        "loader = Loader(conversation_id=\"7w338ujx4e\")\n",
        "loader = Loader(conversation_id=\"7w338ujx4e\", data_source=\"api\")\n",
        "loader = Loader(report_id=\"r7dr5tzke7pbpbajynkv8\")\n",
        "loader = Loader(report_id=\"r7dr5tzke7pbpbajynkv8\", data_source=\"api\")\n",
        "\n",
        "assert_fully_populated(loader)\n",
        "print_summary(loader)\n"
      ],
      "metadata": {
        "colab": {
          "base_uri": "https://localhost:8080/"
        },
        "id": "XMFUZ2QWxnEA",
        "outputId": "46274b7d-1d37-41d4-8c3d-c1507ed8ec87"
      },
      "execution_count": 53,
      "outputs": [
        {
          "output_type": "stream",
          "name": "stdout",
          "text": [
            "--- Comment count: 134\n",
            "--- First item:\n",
            "[{'active': True,\n",
            "  'agree_count': 10,\n",
            "  'conversation_id': '7w338ujx4e',\n",
            "  'count': 47,\n",
            "  'created': '2020-12-05T01:44:18.929000Z',\n",
            "  'datetime': None,\n",
            "  'disagree_count': 23,\n",
            "  'is_meta': False,\n",
            "  'is_seed': True,\n",
            "  'lang': 'en',\n",
            "  'moderated': 1,\n",
            "  'participant_id': 0,\n",
            "  'pass_count': 14,\n",
            "  'quote_src_url': None,\n",
            "  'statement_id': 1,\n",
            "  'tweet_id': None,\n",
            "  'txt': 'Scott Alexander is the rightful caliph, he shall lead us.',\n",
            "  'velocity': 1}]\n",
            "--- Vote count: 2001\n",
            "--- First item:\n",
            "[{'conversation_id': '7w338ujx4e',\n",
            "  'datetime': None,\n",
            "  'modified': 1607134746307.0,\n",
            "  'participant_id': 0,\n",
            "  'statement_id': 1,\n",
            "  'vote': -1,\n",
            "  'weight_x_32767': 0}]\n",
            "--- Math object keys: ['comment-priorities', 'user-vote-counts', 'meta-tids', 'pca', 'group-clusters', 'n', 'consensus', 'n-cmts', 'repness', 'group-aware-consensus', 'mod-in', 'votes-base', 'base-clusters', 'mod-out', 'group-votes', 'lastModTimestamp', 'in-conv', 'tids', 'lastVoteTimestamp', 'math_tick']\n",
            "--- Conversation object keys: ['topic', 'description', 'is_anon', 'is_active', 'is_draft', 'is_public', 'email_domain', 'owner', 'participant_count', 'created', 'strict_moderation', 'profanity_filter', 'spam_filter', 'context', 'modified', 'owner_sees_participation_stats', 'course_id', 'link_url', 'upvotes', 'parent_url', 'vis_type', 'write_type', 'bgcolor', 'help_type', 'socialbtn_type', 'style_btn', 'auth_needed_to_vote', 'auth_needed_to_write', 'auth_opt_fb', 'auth_opt_tw', 'auth_opt_allow_3rdparty', 'help_bgcolor', 'help_color', 'is_data_open', 'is_curated', 'dataset_explanation', 'write_hint_type', 'subscribe_type', 'org_id', 'need_suzinvite', 'use_xid_whitelist', 'prioritize_seed', 'importance_enabled', 'site_id', 'auth_opt_fb_computed', 'auth_opt_tw_computed', 'translations', 'ownername', 'is_mod', 'is_owner', 'conversation_id']\n"
          ]
        }
      ]
    },
    {
      "cell_type": "code",
      "source": [
        "# If you know the report ID, you can also download from the newer and more official CSV export API endpoint:\n",
        "# Example: https://pol.is/api/v3/reportExport/r5jsvucnwuuhw7dzjvaim/participant-votes.csv\n",
        "loader = Loader(polis_id=\"r7dr5tzke7pbpbajynkv8\", data_source=\"csv_export\")\n",
        "\n",
        "# All of these are equivalent:\n",
        "loader = Loader(polis_id=\"r7dr5tzke7pbpbajynkv8\", data_source=\"csv_export\")\n",
        "# Doesn't work for now. See: https://github.com/polis-community/red-dwarf/issues/56\n",
        "# loader = Loader(directory_url=\"https://pol.is/api/v3/reportExport/r7dr5tzke7pbpbajynkv8/\")\n",
        "\n",
        "# math_data and conversation_data only populate from the \"api\" data_source.\n",
        "assert_fully_populated(loader, ignore=[\"math_data\", \"conversation_data\"])\n",
        "print_summary(loader)"
      ],
      "metadata": {
        "colab": {
          "base_uri": "https://localhost:8080/"
        },
        "id": "oCiuFM1m1TFh",
        "outputId": "7943e5e8-c2df-4a46-dc49-f65b6d5412e1"
      },
      "execution_count": 54,
      "outputs": [
        {
          "output_type": "stream",
          "name": "stdout",
          "text": [
            "Removing duplicate vote: {'participant_id': 31, 'statement_id': 99, 'vote': -1, 'weight_x_32767': None, 'modified': 1607293570000.0, 'conversation_id': None, 'datetime': 'Sun Dec 06 2020 22:26:10 GMT+0000 (Coordinated Universal Time)'}\n",
            "Removing duplicate vote: {'participant_id': 31, 'statement_id': 99, 'vote': -1, 'weight_x_32767': None, 'modified': 1607293570000.0, 'conversation_id': None, 'datetime': 'Sun Dec 06 2020 22:26:10 GMT+0000 (Coordinated Universal Time)'}\n",
            "Removing duplicate vote: {'participant_id': 31, 'statement_id': 99, 'vote': -1, 'weight_x_32767': None, 'modified': 1607293570000.0, 'conversation_id': None, 'datetime': 'Sun Dec 06 2020 22:26:10 GMT+0000 (Coordinated Universal Time)'}\n",
            "--- Comment count: 134\n",
            "--- First item:\n",
            "[{'active': None,\n",
            "  'agree_count': 2,\n",
            "  'conversation_id': None,\n",
            "  'count': None,\n",
            "  'created': '2020-12-05T23:41:15Z',\n",
            "  'datetime': 'Sat Dec 05 2020 23:41:15 GMT+0000 (Coordinated Universal Time)',\n",
            "  'disagree_count': 6,\n",
            "  'is_meta': None,\n",
            "  'is_seed': None,\n",
            "  'lang': None,\n",
            "  'moderated': 1,\n",
            "  'participant_id': 0,\n",
            "  'pass_count': None,\n",
            "  'quote_src_url': None,\n",
            "  'statement_id': 107,\n",
            "  'tweet_id': None,\n",
            "  'txt': 'Lesswrong is basically reddit.',\n",
            "  'velocity': None}]\n",
            "--- Vote count: 2001\n",
            "--- First item:\n",
            "[{'conversation_id': None,\n",
            "  'datetime': 'Tue Dec 22 2020 01:30:26 GMT+0000 (Coordinated Universal Time)',\n",
            "  'modified': 1608600626000.0,\n",
            "  'participant_id': 0,\n",
            "  'statement_id': 117,\n",
            "  'vote': -1,\n",
            "  'weight_x_32767': None}]\n",
            "--- Math object keys: []\n",
            "--- Conversation object keys: []\n"
          ]
        }
      ]
    },
    {
      "cell_type": "code",
      "source": [
        "# If you have the report_id, loading from CSV export is faster, but for tedious resasons,\n",
        "# it doesn't populate math_data automatically.\n",
        "# If you'd like to force loading math_data from API:\n",
        "loader = Loader(polis_id=\"r7dr5tzke7pbpbajynkv8\", data_source=\"csv_export\")\n",
        "\n",
        "# math_data is missing, as expected.\n",
        "if len(loader.math_data.keys()) == 0:\n",
        "    # Populate report_data using existing loader.report_id\n",
        "    loader.load_api_data_report()\n",
        "    # Set conversation_id on loader\n",
        "    loader.conversation_id = loader.report_data[\"conversation_id\"]\n",
        "    # Populate math_data using fetched loader.conversation_id\n",
        "    loader.load_api_data_math()\n",
        "\n",
        "print_summary(loader)\n",
        "# TODO: Make it so that data_loader runs these API calls automatically.\n",
        "# TODO: For speed/bandwidth, change default download method to CSV export."
      ],
      "metadata": {
        "colab": {
          "base_uri": "https://localhost:8080/"
        },
        "id": "jkGVFNKT3gn3",
        "outputId": "bbbfbf8d-7e96-4666-de26-668ef4b3a68f"
      },
      "execution_count": 55,
      "outputs": [
        {
          "output_type": "stream",
          "name": "stdout",
          "text": [
            "Removing duplicate vote: {'participant_id': 31, 'statement_id': 99, 'vote': -1, 'weight_x_32767': None, 'modified': 1607293570000.0, 'conversation_id': None, 'datetime': 'Sun Dec 06 2020 22:26:10 GMT+0000 (Coordinated Universal Time)'}\n",
            "--- Comment count: 134\n",
            "--- First item:\n",
            "[{'active': None,\n",
            "  'agree_count': 2,\n",
            "  'conversation_id': None,\n",
            "  'count': None,\n",
            "  'created': '2020-12-05T23:41:15Z',\n",
            "  'datetime': 'Sat Dec 05 2020 23:41:15 GMT+0000 (Coordinated Universal Time)',\n",
            "  'disagree_count': 6,\n",
            "  'is_meta': None,\n",
            "  'is_seed': None,\n",
            "  'lang': None,\n",
            "  'moderated': 1,\n",
            "  'participant_id': 0,\n",
            "  'pass_count': None,\n",
            "  'quote_src_url': None,\n",
            "  'statement_id': 107,\n",
            "  'tweet_id': None,\n",
            "  'txt': 'Lesswrong is basically reddit.',\n",
            "  'velocity': None}]\n",
            "--- Vote count: 2001\n",
            "--- First item:\n",
            "[{'conversation_id': None,\n",
            "  'datetime': 'Tue Dec 22 2020 01:30:26 GMT+0000 (Coordinated Universal Time)',\n",
            "  'modified': 1608600626000.0,\n",
            "  'participant_id': 0,\n",
            "  'statement_id': 117,\n",
            "  'vote': -1,\n",
            "  'weight_x_32767': None}]\n",
            "--- Math object keys: ['comment-priorities', 'user-vote-counts', 'meta-tids', 'pca', 'group-clusters', 'n', 'consensus', 'n-cmts', 'repness', 'group-aware-consensus', 'mod-in', 'votes-base', 'base-clusters', 'mod-out', 'group-votes', 'lastModTimestamp', 'in-conv', 'tids', 'lastVoteTimestamp', 'math_tick']\n",
            "--- Conversation object keys: []\n"
          ]
        }
      ]
    },
    {
      "cell_type": "code",
      "source": [
        "# If you know a remote directory-like path that contains all the raw export files, you can use that.\n",
        "# EXAMPLE\n",
        "# Web: https://github.com/compdemocracy/openData/tree/master/scoop-hivemind.ubi\n",
        "# Raw: https://raw.githubusercontent.com/compdemocracy/openData/refs/heads/master/scoop-hivemind.ubi/\n",
        "#\n",
        "# The loader will look for files with these names:\n",
        "#     - comments.csv\n",
        "#     - votes.csv\n",
        "# Doesn't work for now. See: https://github.com/polis-community/red-dwarf/issues/56\n",
        "# loader = Loader(directory_url=\"https://raw.githubusercontent.com/compdemocracy/openData/refs/heads/master/scoop-hivemind.ubi/\")\n",
        "\n",
        "assert_fully_populated(loader, ignore=[\"math_data\", \"conversation_data\"])\n",
        "print_summary(loader)"
      ],
      "metadata": {
        "colab": {
          "base_uri": "https://localhost:8080/"
        },
        "id": "-2H6jj_yva7w",
        "outputId": "50437d77-4395-40d4-a645-66e7155e6711"
      },
      "execution_count": 56,
      "outputs": [
        {
          "output_type": "stream",
          "name": "stdout",
          "text": [
            "Removing duplicate vote: {'participant_id': 218, 'statement_id': 27, 'vote': 1, 'weight_x_32767': None, 'modified': 1503912327503.0, 'conversation_id': None, 'datetime': 'Mon Aug 28 02:25:27 PDT 2017'}\n",
            "Removing duplicate vote: {'participant_id': 38, 'statement_id': 70, 'vote': 1, 'weight_x_32767': None, 'modified': 1503809307692.0, 'conversation_id': None, 'datetime': 'Sat Aug 26 21:48:27 PDT 2017'}\n",
            "Removing duplicate vote: {'participant_id': 178, 'statement_id': 7, 'vote': -1, 'weight_x_32767': None, 'modified': 1503569065818.0, 'conversation_id': None, 'datetime': 'Thu Aug 24 03:04:25 PDT 2017'}\n",
            "Removing duplicate vote: {'participant_id': 155, 'statement_id': 21, 'vote': 1, 'weight_x_32767': None, 'modified': 1503347412731.0, 'conversation_id': None, 'datetime': 'Mon Aug 21 13:30:12 PDT 2017'}\n",
            "Removing duplicate vote: {'participant_id': 155, 'statement_id': 30, 'vote': -1, 'weight_x_32767': None, 'modified': 1503347363975.0, 'conversation_id': None, 'datetime': 'Mon Aug 21 13:29:23 PDT 2017'}\n",
            "Removing duplicate vote: {'participant_id': 155, 'statement_id': 32, 'vote': -1, 'weight_x_32767': None, 'modified': 1503347263186.0, 'conversation_id': None, 'datetime': 'Mon Aug 21 13:27:43 PDT 2017'}\n",
            "Removing duplicate vote: {'participant_id': 132, 'statement_id': 10, 'vote': 0, 'weight_x_32767': None, 'modified': 1503109878817.0, 'conversation_id': None, 'datetime': 'Fri Aug 18 19:31:18 PDT 2017'}\n",
            "Removing duplicate vote: {'participant_id': 129, 'statement_id': 33, 'vote': -1, 'weight_x_32767': None, 'modified': 1503053138816.0, 'conversation_id': None, 'datetime': 'Fri Aug 18 03:45:38 PDT 2017'}\n",
            "Removing duplicate vote: {'participant_id': 111, 'statement_id': 31, 'vote': 1, 'weight_x_32767': None, 'modified': 1502926386432.0, 'conversation_id': None, 'datetime': 'Wed Aug 16 16:33:06 PDT 2017'}\n",
            "Removing duplicate vote: {'participant_id': 111, 'statement_id': 31, 'vote': 1, 'weight_x_32767': None, 'modified': 1502926386102.0, 'conversation_id': None, 'datetime': 'Wed Aug 16 16:33:06 PDT 2017'}\n",
            "Removing duplicate vote: {'participant_id': 110, 'statement_id': 15, 'vote': 1, 'weight_x_32767': None, 'modified': 1502926131432.0, 'conversation_id': None, 'datetime': 'Wed Aug 16 16:28:51 PDT 2017'}\n",
            "Removing duplicate vote: {'participant_id': 107, 'statement_id': 40, 'vote': -1, 'weight_x_32767': None, 'modified': 1502919291056.0, 'conversation_id': None, 'datetime': 'Wed Aug 16 14:34:51 PDT 2017'}\n",
            "Removing duplicate vote: {'participant_id': 105, 'statement_id': 12, 'vote': 1, 'weight_x_32767': None, 'modified': 1502893532590.0, 'conversation_id': None, 'datetime': 'Wed Aug 16 07:25:32 PDT 2017'}\n",
            "Removing duplicate vote: {'participant_id': 87, 'statement_id': 26, 'vote': 1, 'weight_x_32767': None, 'modified': 1502793922207.0, 'conversation_id': None, 'datetime': 'Tue Aug 15 03:45:22 PDT 2017'}\n",
            "Removing duplicate vote: {'participant_id': 73, 'statement_id': 16, 'vote': 1, 'weight_x_32767': None, 'modified': 1502770117423.0, 'conversation_id': None, 'datetime': 'Mon Aug 14 21:08:37 PDT 2017'}\n",
            "Removing duplicate vote: {'participant_id': 38, 'statement_id': 6, 'vote': 1, 'weight_x_32767': None, 'modified': 1502701474274.0, 'conversation_id': None, 'datetime': 'Mon Aug 14 02:04:34 PDT 2017'}\n",
            "Removing duplicate vote: {'participant_id': 38, 'statement_id': 11, 'vote': 1, 'weight_x_32767': None, 'modified': 1502701444683.0, 'conversation_id': None, 'datetime': 'Mon Aug 14 02:04:04 PDT 2017'}\n",
            "Removing duplicate vote: {'participant_id': 10, 'statement_id': 18, 'vote': -1, 'weight_x_32767': None, 'modified': 1502668561756.0, 'conversation_id': None, 'datetime': 'Sun Aug 13 16:56:01 PDT 2017'}\n",
            "Removing duplicate vote: {'participant_id': 10, 'statement_id': 17, 'vote': 1, 'weight_x_32767': None, 'modified': 1502668350518.0, 'conversation_id': None, 'datetime': 'Sun Aug 13 16:52:30 PDT 2017'}\n",
            "Removing duplicate vote: {'participant_id': 10, 'statement_id': 33, 'vote': -1, 'weight_x_32767': None, 'modified': 1502668250862.0, 'conversation_id': None, 'datetime': 'Sun Aug 13 16:50:50 PDT 2017'}\n",
            "Removing duplicate vote: {'participant_id': 10, 'statement_id': 24, 'vote': 1, 'weight_x_32767': None, 'modified': 1502668213036.0, 'conversation_id': None, 'datetime': 'Sun Aug 13 16:50:13 PDT 2017'}\n",
            "--- Comment count: 71\n",
            "--- First item:\n",
            "[{'active': None,\n",
            "  'agree_count': 37,\n",
            "  'conversation_id': None,\n",
            "  'count': None,\n",
            "  'created': '2017-08-23T12:38:57.484000Z',\n",
            "  'datetime': 'Wed Aug 23 05:38:57 PDT 2017',\n",
            "  'disagree_count': 6,\n",
            "  'is_meta': None,\n",
            "  'is_seed': None,\n",
            "  'lang': None,\n",
            "  'moderated': 1,\n",
            "  'participant_id': 0,\n",
            "  'pass_count': None,\n",
            "  'quote_src_url': None,\n",
            "  'statement_id': 70,\n",
            "  'tweet_id': None,\n",
            "  'txt': 'We should adopt these four steps recommended by BINZ to progress a '\n",
            "         'UBI:\\n'\n",
            "         '1. Replace the jobseekers benefit with an income neutral UBI; 2. '\n",
            "         'index this UBI by inflation, growth, and increases in productivity; '\n",
            "         \"3. introduce a kids' basic income; 4. expand on the Government's \"\n",
            "         'voluntary relocation scheme to make replacing the accommodation '\n",
            "         'supplement more feasible in the future.',\n",
            "  'velocity': None}]\n",
            "--- Vote count: 7153\n",
            "--- First item:\n",
            "[{'conversation_id': None,\n",
            "  'datetime': 'Thu Aug 31 11:58:19 PDT 2017',\n",
            "  'modified': 1504205899707.0,\n",
            "  'participant_id': 233,\n",
            "  'statement_id': 60,\n",
            "  'vote': 1,\n",
            "  'weight_x_32767': None}]\n",
            "--- Math object keys: []\n",
            "--- Conversation object keys: []\n"
          ]
        }
      ]
    },
    {
      "cell_type": "code",
      "source": [
        "# If you have local CSV files, you can also load them individually.\n",
        "# Again, you must hint the moderation type.\n",
        "# Filenames must match `*comments.csv` or `*votes.csv`\n",
        "loader = Loader(filepaths=[\n",
        "   \"your-data/comments.csv\",\n",
        "   \"your-data/votes.csv\",\n",
        "])\n",
        "\n",
        "assert_fully_populated(loader, ignore=[\"math_data\", \"conversation_data\"])\n",
        "print_summary(loader)"
      ],
      "metadata": {
        "tags": ["skip-execution"],
        "id": "G3HPghn42oqZ"
      },
      "execution_count": null,
      "outputs": []
    },
    {
      "cell_type": "code",
      "source": [
        "# By default, the Loader imports data from the https://pol.is API.\n",
        "# You can also choose to import data from an alternative instance.\n",
        "Loader(polis_instance_url=\"https://polis.tw\", polis_id=\"r7xrbjj7brcxmcfmeun2u\")\n",
        "\n",
        "assert_fully_populated(loader, ignore=[\"math_data\", \"conversation_data\"])\n",
        "print_summary(loader)"
      ],
      "metadata": {
        "colab": {
          "base_uri": "https://localhost:8080/"
        },
        "id": "hzxaNt__2qO_",
        "outputId": "8335e15a-4f57-4efc-8a58-639b1fdd4a84"
      },
      "execution_count": 58,
      "outputs": [
        {
          "output_type": "stream",
          "name": "stdout",
          "text": [
            "--- Comment count: 71\n",
            "--- First item:\n",
            "[{'active': None,\n",
            "  'agree_count': 37,\n",
            "  'conversation_id': None,\n",
            "  'count': None,\n",
            "  'created': '2017-08-23T12:38:57.484000Z',\n",
            "  'datetime': 'Wed Aug 23 05:38:57 PDT 2017',\n",
            "  'disagree_count': 6,\n",
            "  'is_meta': None,\n",
            "  'is_seed': None,\n",
            "  'lang': None,\n",
            "  'moderated': 1,\n",
            "  'participant_id': 0,\n",
            "  'pass_count': None,\n",
            "  'quote_src_url': None,\n",
            "  'statement_id': 70,\n",
            "  'tweet_id': None,\n",
            "  'txt': 'We should adopt these four steps recommended by BINZ to progress a '\n",
            "         'UBI:\\n'\n",
            "         '1. Replace the jobseekers benefit with an income neutral UBI; 2. '\n",
            "         'index this UBI by inflation, growth, and increases in productivity; '\n",
            "         \"3. introduce a kids' basic income; 4. expand on the Government's \"\n",
            "         'voluntary relocation scheme to make replacing the accommodation '\n",
            "         'supplement more feasible in the future.',\n",
            "  'velocity': None}]\n",
            "--- Vote count: 7153\n",
            "--- First item:\n",
            "[{'conversation_id': None,\n",
            "  'datetime': 'Thu Aug 31 11:58:19 PDT 2017',\n",
            "  'modified': 1504205899707.0,\n",
            "  'participant_id': 233,\n",
            "  'statement_id': 60,\n",
            "  'vote': 1,\n",
            "  'weight_x_32767': None}]\n",
            "--- Math object keys: []\n",
            "--- Conversation object keys: []\n"
          ]
        }
      ]
    }
  ]
}
