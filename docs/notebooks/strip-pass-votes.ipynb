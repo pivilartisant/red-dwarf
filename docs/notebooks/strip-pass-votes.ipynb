{
  "cells": [
    {
      "cell_type": "markdown",
      "metadata": {
        "colab_type": "text",
        "id": "view-in-github"
      },
      "source": [
        "<a href=\"https://colab.research.google.com/github/polis-community/red-dwarf/blob/main/docs/notebooks/strip-pass-votes.ipynb\" target=\"_parent\"><img src=\"https://colab.research.google.com/assets/colab-badge.svg\" alt=\"Open In Colab\"/></a>"
      ]
    },
    {
      "cell_type": "code",
      "execution_count": null,
      "metadata": {
        "colab": {
          "base_uri": "https://localhost:8080/"
        },
        "id": "kEyVHx6y7zpu",
        "outputId": "7e9679b7-468c-49ef-ed5c-6cb54f58d668"
      },
      "outputs": [
        {
          "name": "stdout",
          "output_type": "stream",
          "text": [
            "  Installing build dependencies ... \u001b[?25l\u001b[?25hdone\n",
            "  Getting requirements to build wheel ... \u001b[?25l\u001b[?25hdone\n",
            "  Preparing metadata (pyproject.toml) ... \u001b[?25l\u001b[?25hdone\n",
            "\u001b[2K   \u001b[90m━━━━━━━━━━━━━━━━━━━━━━━━━━━━━━━━━━━━━━━━\u001b[0m \u001b[32m116.1/116.1 kB\u001b[0m \u001b[31m5.1 MB/s\u001b[0m eta \u001b[36m0:00:00\u001b[0m\n",
            "\u001b[2K   \u001b[90m━━━━━━━━━━━━━━━━━━━━━━━━━━━━━━━━━━━━━━━━\u001b[0m \u001b[32m125.8/125.8 kB\u001b[0m \u001b[31m18.0 MB/s\u001b[0m eta \u001b[36m0:00:00\u001b[0m\n",
            "\u001b[2K   \u001b[90m━━━━━━━━━━━━━━━━━━━━━━━━━━━━━━━━━━━━━━━━\u001b[0m \u001b[32m61.4/61.4 kB\u001b[0m \u001b[31m177.4 MB/s\u001b[0m eta \u001b[36m0:00:00\u001b[0m\n",
            "\u001b[2K   \u001b[90m━━━━━━━━━━━━━━━━━━━━━━━━━━━━━━━━━━━━━━━━\u001b[0m \u001b[32m66.4/66.4 kB\u001b[0m \u001b[31m148.5 MB/s\u001b[0m eta \u001b[36m0:00:00\u001b[0m\n",
            "\u001b[?25h  Building wheel for red-dwarf-democracy (pyproject.toml) ... \u001b[?25l\u001b[?25hdone\n"
          ]
        }
      ],
      "source": [
        "%pip install --quiet red-dwarf[all]@git+https://github.com/polis-community/red-dwarf.git@main"
      ]
    },
    {
      "cell_type": "code",
      "execution_count": 1,
      "metadata": {
        "id": "4Offyb7fPpUg"
      },
      "outputs": [],
      "source": [
        "CONVOS = {\n",
        "    # Topic: What were the most significant developments in tech and politics in 2018?\n",
        "    # 5 groups, 65 ptpts (56 grouped), 43 comments (open)\n",
        "    \"tech-politics-2018\": {\n",
        "        \"report_id\": \"r2dfw8eambusb8buvecjt\",\n",
        "        \"convo_id\": \"6jrufhr6dp\",\n",
        "    },\n",
        "    # Topic: How should we operate vehicle-for-hire, e.g. Uber, Lyft and taxis in Toronto?\n",
        "    # 2 groups, 47 ptpts (36 grouped), 69 comments (open)\n",
        "    \"rideshare-toronto\": {\n",
        "        \"report_id\": \"r8xhmkwp6shm9yfermteh\",\n",
        "        \"convo_id\": \"7vampckwrh\",\n",
        "    },\n",
        "}"
      ]
    },
    {
      "cell_type": "code",
      "execution_count": 2,
      "metadata": {
        "id": "tothK_WVb9-7"
      },
      "outputs": [],
      "source": [
        "# Set up interactive widgets.\n",
        "\n",
        "from ipywidgets import interact, interact_manual\n",
        "import ipywidgets as widgets\n",
        "from random import random\n",
        "\n",
        "checkbox = widgets.Checkbox(\n",
        "    value=False,\n",
        "    description='Remove pass votes',\n",
        "    indent=True,\n",
        ")\n",
        "random_val = widgets.FloatText()\n",
        "button = widgets.Button(description=\"Re-run Clustering\")\n",
        "\n",
        "def on_button_click(_):\n",
        "    random_val.value = random()\n",
        "button.on_click(on_button_click)"
      ]
    },
    {
      "cell_type": "code",
      "execution_count": 3,
      "metadata": {
        "colab": {
          "base_uri": "https://localhost:8080/",
          "height": 656,
          "referenced_widgets": [
            "f8b2668e48b54430be461981047d4ed8",
            "a96688a45abc4954a367d35785336bf5",
            "d42aaca52bef446b8d81b03ce4862faf",
            "ec8345b644d048b59d024b3f70a09ca8",
            "d6a06f82e5c0493fac9102865e9d3b0b",
            "01f9e914e7374bd7b0b2baa9c95c6c03",
            "54c4e4d01ead42b0846685e66edfc2b5",
            "ee7a57ad02ef4b7c9989033f78467e57",
            "bc762b05029b4fdaa97c0d1cf64ce5af",
            "05e8a4969a3b4f708cb3e4481ef6a8a1"
          ]
        },
        "id": "NkGdoHCy8RdA",
        "outputId": "1b1c25e5-4c7b-453a-9284-285602714b50"
      },
      "outputs": [
        {
          "name": "stdout",
          "output_type": "stream",
          "text": [
            "Loading data from report: https://pol.is/report/r2dfw8eambusb8buvecjt\n",
            "\n",
            "Run with or without pass votes, to see the algorithmic effect of including pass votes.\n"
          ]
        },
        {
          "data": {
            "application/vnd.jupyter.widget-view+json": {
              "model_id": "bd2caaea973440feb7c3fccd61786b0c",
              "version_major": 2,
              "version_minor": 0
            },
            "text/plain": [
              "HBox(children=(Checkbox(value=False, description='Remove pass votes'), Button(description='Re-run Clustering',…"
            ]
          },
          "metadata": {},
          "output_type": "display_data"
        },
        {
          "data": {
            "application/vnd.jupyter.widget-view+json": {
              "model_id": "1011dcbecee0484a94952882fdfb26a5",
              "version_major": 2,
              "version_minor": 0
            },
            "text/plain": [
              "Output()"
            ]
          },
          "execution_count": 3,
          "metadata": {},
          "output_type": "execute_result"
        }
      ],
      "source": [
        "from reddwarf.data_loader import Loader\n",
        "from reddwarf.utils.statements import process_statements\n",
        "from reddwarf.implementations.base import run_pipeline\n",
        "from reddwarf.data_presenter import generate_figure_polis\n",
        "\n",
        "report_id = CONVOS[\"tech-politics-2018\"][\"report_id\"]\n",
        "print(f\"Loading data from report: https://pol.is/report/{report_id}\")\n",
        "print()\n",
        "print(\"Run with or without pass votes, to see the algorithmic effect of including pass votes.\")\n",
        "\n",
        "# Display the checkboxes.\n",
        "display(widgets.HBox([checkbox, button]))\n",
        "\n",
        "\n",
        "# To see the consequences of not having pass/neutral/zero votes\n",
        "def cluster_and_plot(do_strip_pass_votes, dummy_var):\n",
        "    loader = Loader(polis_id=report_id)\n",
        "    \n",
        "    if do_strip_pass_votes:\n",
        "        loader.votes_data = [v for v in loader.votes_data if v[\"vote\"] != 0]\n",
        "\n",
        "    _, _, mod_out_statement_ids, meta_statement_ids = process_statements(loader.comments_data)\n",
        "    result = run_pipeline(\n",
        "        reducer=\"pca\",\n",
        "        clusterer=\"kmeans\",\n",
        "        votes=loader.votes_data,\n",
        "        mod_out_statement_ids=mod_out_statement_ids,\n",
        "        meta_statement_ids=meta_statement_ids,\n",
        "    )\n",
        "    \n",
        "    generate_figure_polis(result)\n",
        "\n",
        "# Render the interactive widget\n",
        "widgets.interactive_output(cluster_and_plot, {'do_strip_pass_votes': checkbox, 'dummy_var': random_val})"
      ]
    }
  ],
  "metadata": {
    "colab": {
      "provenance": []
    },
    "kernelspec": {
      "display_name": ".venv",
      "language": "python",
      "name": "python3"
    },
    "language_info": {
      "codemirror_mode": {
        "name": "ipython",
        "version": 3
      },
      "file_extension": ".py",
      "mimetype": "text/x-python",
      "name": "python",
      "nbconvert_exporter": "python",
      "pygments_lexer": "ipython3",
      "version": "3.10.13"
    },
    "widgets": {
      "application/vnd.jupyter.widget-state+json": {
        "01f9e914e7374bd7b0b2baa9c95c6c03": {
          "model_module": "@jupyter-widgets/controls",
          "model_module_version": "1.5.0",
          "model_name": "DescriptionStyleModel",
          "state": {
            "_model_module": "@jupyter-widgets/controls",
            "_model_module_version": "1.5.0",
            "_model_name": "DescriptionStyleModel",
            "_view_count": null,
            "_view_module": "@jupyter-widgets/base",
            "_view_module_version": "1.2.0",
            "_view_name": "StyleView",
            "description_width": ""
          }
        },
        "05e8a4969a3b4f708cb3e4481ef6a8a1": {
          "model_module": "@jupyter-widgets/base",
          "model_module_version": "1.2.0",
          "model_name": "LayoutModel",
          "state": {
            "_model_module": "@jupyter-widgets/base",
            "_model_module_version": "1.2.0",
            "_model_name": "LayoutModel",
            "_view_count": null,
            "_view_module": "@jupyter-widgets/base",
            "_view_module_version": "1.2.0",
            "_view_name": "LayoutView",
            "align_content": null,
            "align_items": null,
            "align_self": null,
            "border": null,
            "bottom": null,
            "display": null,
            "flex": null,
            "flex_flow": null,
            "grid_area": null,
            "grid_auto_columns": null,
            "grid_auto_flow": null,
            "grid_auto_rows": null,
            "grid_column": null,
            "grid_gap": null,
            "grid_row": null,
            "grid_template_areas": null,
            "grid_template_columns": null,
            "grid_template_rows": null,
            "height": null,
            "justify_content": null,
            "justify_items": null,
            "left": null,
            "margin": null,
            "max_height": null,
            "max_width": null,
            "min_height": null,
            "min_width": null,
            "object_fit": null,
            "object_position": null,
            "order": null,
            "overflow": null,
            "overflow_x": null,
            "overflow_y": null,
            "padding": null,
            "right": null,
            "top": null,
            "visibility": null,
            "width": null
          }
        },
        "54c4e4d01ead42b0846685e66edfc2b5": {
          "model_module": "@jupyter-widgets/base",
          "model_module_version": "1.2.0",
          "model_name": "LayoutModel",
          "state": {
            "_model_module": "@jupyter-widgets/base",
            "_model_module_version": "1.2.0",
            "_model_name": "LayoutModel",
            "_view_count": null,
            "_view_module": "@jupyter-widgets/base",
            "_view_module_version": "1.2.0",
            "_view_name": "LayoutView",
            "align_content": null,
            "align_items": null,
            "align_self": null,
            "border": null,
            "bottom": null,
            "display": null,
            "flex": null,
            "flex_flow": null,
            "grid_area": null,
            "grid_auto_columns": null,
            "grid_auto_flow": null,
            "grid_auto_rows": null,
            "grid_column": null,
            "grid_gap": null,
            "grid_row": null,
            "grid_template_areas": null,
            "grid_template_columns": null,
            "grid_template_rows": null,
            "height": null,
            "justify_content": null,
            "justify_items": null,
            "left": null,
            "margin": null,
            "max_height": null,
            "max_width": null,
            "min_height": null,
            "min_width": null,
            "object_fit": null,
            "object_position": null,
            "order": null,
            "overflow": null,
            "overflow_x": null,
            "overflow_y": null,
            "padding": null,
            "right": null,
            "top": null,
            "visibility": null,
            "width": null
          }
        },
        "a96688a45abc4954a367d35785336bf5": {
          "model_module": "@jupyter-widgets/controls",
          "model_module_version": "1.5.0",
          "model_name": "CheckboxModel",
          "state": {
            "_dom_classes": [],
            "_model_module": "@jupyter-widgets/controls",
            "_model_module_version": "1.5.0",
            "_model_name": "CheckboxModel",
            "_view_count": null,
            "_view_module": "@jupyter-widgets/controls",
            "_view_module_version": "1.5.0",
            "_view_name": "CheckboxView",
            "description": "Remove pass votes",
            "description_tooltip": null,
            "disabled": false,
            "indent": true,
            "layout": "IPY_MODEL_d6a06f82e5c0493fac9102865e9d3b0b",
            "style": "IPY_MODEL_01f9e914e7374bd7b0b2baa9c95c6c03",
            "value": false
          }
        },
        "bc762b05029b4fdaa97c0d1cf64ce5af": {
          "model_module": "@jupyter-widgets/output",
          "model_module_version": "1.0.0",
          "model_name": "OutputModel",
          "state": {
            "_dom_classes": [],
            "_model_module": "@jupyter-widgets/output",
            "_model_module_version": "1.0.0",
            "_model_name": "OutputModel",
            "_view_count": null,
            "_view_module": "@jupyter-widgets/output",
            "_view_module_version": "1.0.0",
            "_view_name": "OutputView",
            "layout": "IPY_MODEL_05e8a4969a3b4f708cb3e4481ef6a8a1",
            "msg_id": "",
            "outputs": [
              {
                "name": "stdout",
                "output_type": "stream",
                "text": [
                  "k_test=2, this_silhouette_score=np.float64(0.33100826172385617)\n",
                  "k_test=3, this_silhouette_score=np.float64(0.2733909940748987)\n",
                  "k_test=4, this_silhouette_score=np.float64(0.32813136842843654)\n",
                  "k_test=5, this_silhouette_score=np.float64(0.37315432620579003)\n",
                  "Optimal clusters for K=5\n",
                  "Plotting PCA embeddings with K-means, K=5\n",
                  "Calculating convex hulls around clusters...\n",
                  "Hull 0, bounding 11 points\n",
                  "Hull 1, bounding 9 points\n",
                  "Hull 2, bounding 19 points\n",
                  "Hull 3, bounding 9 points\n",
                  "Hull 4, bounding 8 points\n"
                ]
              },
              {
                "data": {
                  "image/png": "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\n",
                  "text/plain": "<Figure size 560x400 with 2 Axes>"
                },
                "metadata": {},
                "output_type": "display_data"
              }
            ]
          }
        },
        "d42aaca52bef446b8d81b03ce4862faf": {
          "model_module": "@jupyter-widgets/controls",
          "model_module_version": "1.5.0",
          "model_name": "ButtonModel",
          "state": {
            "_dom_classes": [],
            "_model_module": "@jupyter-widgets/controls",
            "_model_module_version": "1.5.0",
            "_model_name": "ButtonModel",
            "_view_count": null,
            "_view_module": "@jupyter-widgets/controls",
            "_view_module_version": "1.5.0",
            "_view_name": "ButtonView",
            "button_style": "",
            "description": "Re-run Clustering",
            "disabled": false,
            "icon": "",
            "layout": "IPY_MODEL_54c4e4d01ead42b0846685e66edfc2b5",
            "style": "IPY_MODEL_ee7a57ad02ef4b7c9989033f78467e57",
            "tooltip": ""
          }
        },
        "d6a06f82e5c0493fac9102865e9d3b0b": {
          "model_module": "@jupyter-widgets/base",
          "model_module_version": "1.2.0",
          "model_name": "LayoutModel",
          "state": {
            "_model_module": "@jupyter-widgets/base",
            "_model_module_version": "1.2.0",
            "_model_name": "LayoutModel",
            "_view_count": null,
            "_view_module": "@jupyter-widgets/base",
            "_view_module_version": "1.2.0",
            "_view_name": "LayoutView",
            "align_content": null,
            "align_items": null,
            "align_self": null,
            "border": null,
            "bottom": null,
            "display": null,
            "flex": null,
            "flex_flow": null,
            "grid_area": null,
            "grid_auto_columns": null,
            "grid_auto_flow": null,
            "grid_auto_rows": null,
            "grid_column": null,
            "grid_gap": null,
            "grid_row": null,
            "grid_template_areas": null,
            "grid_template_columns": null,
            "grid_template_rows": null,
            "height": null,
            "justify_content": null,
            "justify_items": null,
            "left": null,
            "margin": null,
            "max_height": null,
            "max_width": null,
            "min_height": null,
            "min_width": null,
            "object_fit": null,
            "object_position": null,
            "order": null,
            "overflow": null,
            "overflow_x": null,
            "overflow_y": null,
            "padding": null,
            "right": null,
            "top": null,
            "visibility": null,
            "width": null
          }
        },
        "ec8345b644d048b59d024b3f70a09ca8": {
          "model_module": "@jupyter-widgets/base",
          "model_module_version": "1.2.0",
          "model_name": "LayoutModel",
          "state": {
            "_model_module": "@jupyter-widgets/base",
            "_model_module_version": "1.2.0",
            "_model_name": "LayoutModel",
            "_view_count": null,
            "_view_module": "@jupyter-widgets/base",
            "_view_module_version": "1.2.0",
            "_view_name": "LayoutView",
            "align_content": null,
            "align_items": null,
            "align_self": null,
            "border": null,
            "bottom": null,
            "display": null,
            "flex": null,
            "flex_flow": null,
            "grid_area": null,
            "grid_auto_columns": null,
            "grid_auto_flow": null,
            "grid_auto_rows": null,
            "grid_column": null,
            "grid_gap": null,
            "grid_row": null,
            "grid_template_areas": null,
            "grid_template_columns": null,
            "grid_template_rows": null,
            "height": null,
            "justify_content": null,
            "justify_items": null,
            "left": null,
            "margin": null,
            "max_height": null,
            "max_width": null,
            "min_height": null,
            "min_width": null,
            "object_fit": null,
            "object_position": null,
            "order": null,
            "overflow": null,
            "overflow_x": null,
            "overflow_y": null,
            "padding": null,
            "right": null,
            "top": null,
            "visibility": null,
            "width": null
          }
        },
        "ee7a57ad02ef4b7c9989033f78467e57": {
          "model_module": "@jupyter-widgets/controls",
          "model_module_version": "1.5.0",
          "model_name": "ButtonStyleModel",
          "state": {
            "_model_module": "@jupyter-widgets/controls",
            "_model_module_version": "1.5.0",
            "_model_name": "ButtonStyleModel",
            "_view_count": null,
            "_view_module": "@jupyter-widgets/base",
            "_view_module_version": "1.2.0",
            "_view_name": "StyleView",
            "button_color": null,
            "font_weight": ""
          }
        },
        "f8b2668e48b54430be461981047d4ed8": {
          "model_module": "@jupyter-widgets/controls",
          "model_module_version": "1.5.0",
          "model_name": "HBoxModel",
          "state": {
            "_dom_classes": [],
            "_model_module": "@jupyter-widgets/controls",
            "_model_module_version": "1.5.0",
            "_model_name": "HBoxModel",
            "_view_count": null,
            "_view_module": "@jupyter-widgets/controls",
            "_view_module_version": "1.5.0",
            "_view_name": "HBoxView",
            "box_style": "",
            "children": [
              "IPY_MODEL_a96688a45abc4954a367d35785336bf5",
              "IPY_MODEL_d42aaca52bef446b8d81b03ce4862faf"
            ],
            "layout": "IPY_MODEL_ec8345b644d048b59d024b3f70a09ca8"
          }
        }
      }
    }
  },
  "nbformat": 4,
  "nbformat_minor": 0
}
