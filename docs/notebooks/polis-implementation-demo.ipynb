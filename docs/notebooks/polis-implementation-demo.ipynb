{
  "cells": [
    {
      "cell_type": "markdown",
      "metadata": {
        "id": "view-in-github",
        "colab_type": "text"
      },
      "source": [
        "<a href=\"https://colab.research.google.com/github/polis-community/red-dwarf/blob/main/docs/notebooks/polis-implementation-demo.ipynb\" target=\"_parent\"><img src=\"https://colab.research.google.com/assets/colab-badge.svg\" alt=\"Open In Colab\"/></a>"
      ]
    },
    {
      "cell_type": "code",
      "execution_count": 1,
      "metadata": {
        "colab": {
          "base_uri": "https://localhost:8080/"
        },
        "id": "kEyVHx6y7zpu",
        "outputId": "1ba3190c-5a55-43fb-8e0a-f42a13dfae8c"
      },
      "outputs": [
        {
          "output_type": "stream",
          "name": "stdout",
          "text": [
            "  Installing build dependencies ... \u001b[?25l\u001b[?25hdone\n",
            "  Getting requirements to build wheel ... \u001b[?25l\u001b[?25hdone\n",
            "  Preparing metadata (pyproject.toml) ... \u001b[?25l\u001b[?25hdone\n",
            "\u001b[2K     \u001b[90m━━━━━━━━━━━━━━━━━━━━━━━━━━━━━━━━━━━━━\u001b[0m \u001b[32m647.5/647.5 kB\u001b[0m \u001b[31m145.9 MB/s\u001b[0m eta \u001b[36m0:00:00\u001b[0m\n",
            "\u001b[?25h  Preparing metadata (setup.py) ... \u001b[?25l\u001b[?25hdone\n",
            "\u001b[2K   \u001b[90m━━━━━━━━━━━━━━━━━━━━━━━━━━━━━━━━━━━━━━━\u001b[0m \u001b[32m116.1/116.1 kB\u001b[0m \u001b[31m176.5 MB/s\u001b[0m eta \u001b[36m0:00:00\u001b[0m\n",
            "\u001b[2K   \u001b[90m━━━━━━━━━━━━━━━━━━━━━━━━━━━━━━━━━━━━━━━\u001b[0m \u001b[32m161.7/161.7 kB\u001b[0m \u001b[31m154.4 MB/s\u001b[0m eta \u001b[36m0:00:00\u001b[0m\n",
            "\u001b[2K   \u001b[90m━━━━━━━━━━━━━━━━━━━━━━━━━━━━━━━━━━━━━━━━\u001b[0m \u001b[32m61.4/61.4 kB\u001b[0m \u001b[31m138.0 MB/s\u001b[0m eta \u001b[36m0:00:00\u001b[0m\n",
            "\u001b[2K   \u001b[90m━━━━━━━━━━━━━━━━━━━━━━━━━━━━━━━━━━━━━━━━\u001b[0m \u001b[32m69.4/69.4 kB\u001b[0m \u001b[31m162.7 MB/s\u001b[0m eta \u001b[36m0:00:00\u001b[0m\n",
            "\u001b[?25h  Building wheel for red-dwarf (pyproject.toml) ... \u001b[?25l\u001b[?25hdone\n",
            "  Building wheel for annoy (setup.py) ... \u001b[?25l\u001b[?25hdone\n"
          ]
        }
      ],
      "source": [
        "%pip install --quiet red-dwarf[all]@git+https://github.com/polis-community/red-dwarf.git@main"
      ]
    },
    {
      "cell_type": "code",
      "execution_count": 2,
      "metadata": {
        "colab": {
          "base_uri": "https://localhost:8080/"
        },
        "id": "NkGdoHCy8RdA",
        "outputId": "0ad532b4-5590-4cdc-bf25-318ef2266936"
      },
      "outputs": [
        {
          "output_type": "stream",
          "name": "stdout",
          "text": [
            "Loading data from https://pol.is/report/r2dfw8eambusb8buvecjt\n",
            "{\n",
            "  \"participant_id\": 0,\n",
            "  \"statement_id\": 0,\n",
            "  \"vote\": 1,\n",
            "  \"weight_x_32767\": 0,\n",
            "  \"modified\": 1544544810393.0,\n",
            "  \"conversation_id\": \"6jrufhr6dp\",\n",
            "  \"datetime\": null\n",
            "}\n",
            "{\n",
            "  \"txt\": \"I feel Blockchain technologies have been over-hyped.\",\n",
            "  \"statement_id\": 1,\n",
            "  \"created\": \"2018-12-11T16:13:43.605000Z\",\n",
            "  \"tweet_id\": null,\n",
            "  \"quote_src_url\": null,\n",
            "  \"is_seed\": false,\n",
            "  \"is_meta\": false,\n",
            "  \"lang\": \"en\",\n",
            "  \"participant_id\": 0,\n",
            "  \"velocity\": 1,\n",
            "  \"moderated\": -1,\n",
            "  \"active\": true,\n",
            "  \"agree_count\": 12,\n",
            "  \"disagree_count\": 2,\n",
            "  \"pass_count\": 1,\n",
            "  \"count\": 15,\n",
            "  \"conversation_id\": \"6jrufhr6dp\",\n",
            "  \"datetime\": null\n",
            "}\n"
          ]
        }
      ],
      "source": [
        "from reddwarf.data_loader import Loader\n",
        "import json\n",
        "import numpy as np\n",
        "\n",
        "# Topic: What were the most significant developments in tech and politics in 2018?\n",
        "# 5 groups, 65 ptpts (56 grouped), 43 comments (open)\n",
        "REPORT_ID=\"r2dfw8eambusb8buvecjt\"\n",
        "# REPORT_ID=\"r6ipxzfudddppwesbmtmn\" # Alternative Polis convo\n",
        "\n",
        "print(f\"Loading data from https://pol.is/report/{REPORT_ID}\")\n",
        "\n",
        "# We'll use the data_loader utility to simply load vote data.\n",
        "loader = Loader(polis_id=REPORT_ID)\n",
        "votes = loader.votes_data\n",
        "\n",
        "# Show what our raw vote data looks like:\n",
        "print(json.dumps(votes[0], indent=2))\n",
        "\n",
        "# Show what our raw statement data looks like:\n",
        "statements = loader.comments_data\n",
        "print(json.dumps(statements[0], indent=2))\n",
        "\n",
        "# We need this for a little helper later.\n",
        "math_data = loader.math_data"
      ]
    },
    {
      "cell_type": "code",
      "source": [
        "# Now we use out custom polis implementation to recreate the Polis calculations.\n",
        "from reddwarf.implementations.polis import run_clustering\n",
        "from reddwarf.utils.statements import process_statements\n",
        "from reddwarf.utils.polismath import get_corrected_centroid_guesses\n",
        "\n",
        "# In this conversation, any -1 is moderated out. Matches upstream behavior.\n",
        "# TODO: Investigate why is_strict_moderation doesn't affect this.\n",
        "_, _, mod_out_statement_ids, meta_statement_ids = process_statements(statements)\n",
        "print(f\"{math_data['mod-out']=}\")\n",
        "print(f\"{mod_out_statement_ids=}\")\n",
        "\n",
        "# We can run this from scratch, but kmeans is non-deterministic and might find slightly different clusters\n",
        "# or even different k-values (number of groups) if the silhouette scores it finds are better.\n",
        "# To show how to reproduce Polis results, we'll set init guess coordinates that we know polis platform got:\n",
        "init_cluster_center_guesses = get_corrected_centroid_guesses(math_data)\n",
        "print(f\"{init_cluster_center_guesses=}\")"
      ],
      "metadata": {
        "id": "EAfHaFFIhYw7",
        "outputId": "7ebb4c18-0448-4d6f-b9cd-0e5d93570bbe",
        "colab": {
          "base_uri": "https://localhost:8080/"
        }
      },
      "execution_count": 3,
      "outputs": [
        {
          "output_type": "stream",
          "name": "stdout",
          "text": [
            "math_data['mod-out']=[0, 1, 31]\n",
            "mod_out_statement_ids=[0, 1, 31]\n",
            "init_cluster_center_guesses=[[2.3249928691116573, -0.660737300795657], [-0.2555363550500295, 0.23787153431450953], [-1.2703643531444606, -1.913074376569441], [1.3341169243032838, 1.4244873357833063], [-3.2582815788575115, 1.4124353685383775]]\n"
          ]
        }
      ]
    },
    {
      "cell_type": "code",
      "source": [
        "# Now with those guessed cluster centers seeded, we'll run the whole calculation from raw vote data.\n",
        "result = run_clustering(\n",
        "    votes=votes,\n",
        "    mod_out_statement_ids=mod_out_statement_ids,\n",
        "    meta_statement_ids=meta_statement_ids,\n",
        "    # If clustering is getting ready to find a new k, more need to uncomment\n",
        "    # this to properly reproduce Polis visualization.\n",
        "    #\n",
        "    # force_group_count=len(init_cluster_center_guesses),\n",
        "    init_centers=init_cluster_center_guesses,\n",
        "    # Polis has some edge-cases logic that keeps arbitrary [early] participants in\n",
        "    # the clustering algorithm for reasons that are hard to reproduce, so we\n",
        "    # borrow these.\n",
        "    # See: https://github.com/compdemocracy/polis/pull/1893#issuecomment-2654666421\n",
        "    keep_participant_ids=math_data[\"in-conv\"],\n",
        ")\n",
        "\n",
        "from itertools import islice\n",
        "from pprint import pprint\n",
        "\n",
        "def take(n, iterable):\n",
        "    \"\"\"Return the first n items of the iterable as a list.\"\"\"\n",
        "    return dict(islice(iterable.items(), n))\n",
        "\n",
        "pprint(take(5, result.participant_projections))\n",
        "pprint(take(5, result.statement_projections))"
      ],
      "metadata": {
        "colab": {
          "base_uri": "https://localhost:8080/"
        },
        "id": "HnTewjhSIb0a",
        "outputId": "45f7edcd-dad8-4601-c448-bba08cec3d30"
      },
      "execution_count": 13,
      "outputs": [
        {
          "output_type": "stream",
          "name": "stdout",
          "text": [
            "{0: array([1.97302193, 1.26845666]),\n",
            " 1: array([ 3.43041183, -1.16720882]),\n",
            " 2: array([1.01692331, 0.47138823]),\n",
            " 3: array([1.12613927, 0.08307809]),\n",
            " 4: array([1.26019023, 0.80821615])}\n",
            "{0: array([0., 0.]),\n",
            " 1: array([0., 0.]),\n",
            " 2: array([0.93125323, 0.26783686]),\n",
            " 3: array([ 0.87136986, -1.24063318]),\n",
            " 4: array([ 1.25036248, -0.63584169])}\n"
          ]
        }
      ]
    },
    {
      "cell_type": "code",
      "source": [
        "from reddwarf.data_presenter import generate_figure_polis\n",
        "\n",
        "# flip_y sometimes needed to look like Polis interface\n",
        "generate_figure_polis(result, show_guesses=True, flip_y=False)\n",
        "# Note: the red points (group '-1') are the cluster center guesses that we fed into the KMeans algorithm.\n"
      ],
      "metadata": {
        "colab": {
          "base_uri": "https://localhost:8080/",
          "height": 323
        },
        "id": "u_NmYu_bIfLR",
        "outputId": "5154f9ca-fa35-4212-dc00-180d55fa5b71"
      },
      "execution_count": 14,
      "outputs": [
        {
          "output_type": "error",
          "ename": "AttributeError",
          "evalue": "'PolisClusteringResult' object has no attribute 'kmeans'",
          "traceback": [
            "\u001b[0;31m---------------------------------------------------------------------------\u001b[0m",
            "\u001b[0;31mAttributeError\u001b[0m                            Traceback (most recent call last)",
            "\u001b[0;32m/tmp/ipython-input-14-1727359376.py\u001b[0m in \u001b[0;36m<cell line: 0>\u001b[0;34m()\u001b[0m\n\u001b[1;32m      2\u001b[0m \u001b[0;34m\u001b[0m\u001b[0m\n\u001b[1;32m      3\u001b[0m \u001b[0;31m# flip_y sometimes needed to look like Polis interface\u001b[0m\u001b[0;34m\u001b[0m\u001b[0;34m\u001b[0m\u001b[0m\n\u001b[0;32m----> 4\u001b[0;31m \u001b[0mgenerate_figure_polis\u001b[0m\u001b[0;34m(\u001b[0m\u001b[0mresult\u001b[0m\u001b[0;34m,\u001b[0m \u001b[0mshow_guesses\u001b[0m\u001b[0;34m=\u001b[0m\u001b[0;32mTrue\u001b[0m\u001b[0;34m,\u001b[0m \u001b[0mflip_y\u001b[0m\u001b[0;34m=\u001b[0m\u001b[0;32mFalse\u001b[0m\u001b[0;34m)\u001b[0m\u001b[0;34m\u001b[0m\u001b[0;34m\u001b[0m\u001b[0m\n\u001b[0m\u001b[1;32m      5\u001b[0m \u001b[0;31m# Note: the red points (group '-1') are the cluster center guesses that we fed into the KMeans algorithm.\u001b[0m\u001b[0;34m\u001b[0m\u001b[0;34m\u001b[0m\u001b[0m\n",
            "\u001b[0;32m/usr/local/lib/python3.11/dist-packages/reddwarf/data_presenter.py\u001b[0m in \u001b[0;36mgenerate_figure_polis\u001b[0;34m(result, show_guesses, flip_x, flip_y, show_pids)\u001b[0m\n\u001b[1;32m     37\u001b[0m             [\n\u001b[1;32m     38\u001b[0m                 \u001b[0mcoord_data\u001b[0m\u001b[0;34m,\u001b[0m\u001b[0;34m\u001b[0m\u001b[0;34m\u001b[0m\u001b[0m\n\u001b[0;32m---> 39\u001b[0;31m                 \u001b[0mnp\u001b[0m\u001b[0;34m.\u001b[0m\u001b[0masarray\u001b[0m\u001b[0;34m(\u001b[0m\u001b[0mresult\u001b[0m\u001b[0;34m.\u001b[0m\u001b[0mkmeans\u001b[0m\u001b[0;34m.\u001b[0m\u001b[0minit_centers_used_\u001b[0m \u001b[0;32mif\u001b[0m \u001b[0mresult\u001b[0m\u001b[0;34m.\u001b[0m\u001b[0mkmeans\u001b[0m \u001b[0;32melse\u001b[0m \u001b[0;34m[\u001b[0m\u001b[0;34m]\u001b[0m\u001b[0;34m)\u001b[0m\u001b[0;34m,\u001b[0m\u001b[0;34m\u001b[0m\u001b[0;34m\u001b[0m\u001b[0m\n\u001b[0m\u001b[1;32m     40\u001b[0m             ]\n\u001b[1;32m     41\u001b[0m         )\n",
            "\u001b[0;31mAttributeError\u001b[0m: 'PolisClusteringResult' object has no attribute 'kmeans'"
          ]
        }
      ]
    },
    {
      "cell_type": "markdown",
      "source": [
        "You can see that this looks exactly how the Polis visualization looks!\n",
        "\n",
        "![screenshot of the polis report](https://imgur.com/blkIEtW.png)"
      ],
      "metadata": {
        "id": "sZHr2vSWI6hY"
      }
    },
    {
      "cell_type": "code",
      "source": [
        "from reddwarf.data_presenter import print_selected_statements\n",
        "\n",
        "print_selected_statements(result=result, statements_data=statements)\n"
      ],
      "metadata": {
        "id": "06pUuMhWKw5H",
        "outputId": "e35944ab-0ecc-4b4e-fbe6-687f2ea43f69",
        "colab": {
          "base_uri": "https://localhost:8080/"
        }
      },
      "execution_count": 15,
      "outputs": [
        {
          "output_type": "stream",
          "name": "stdout",
          "text": [
            "# CONSENSUS STATEMENTS\n",
            "\n",
            "## FOR AGREEMENT\n",
            "\n",
            "* Authoritarian populist parties worldwide figured out how to weaponize trust and social media, winning elections.\n",
            "    86% of everyone who voted on statement 28 agreed.\n",
            "\n",
            "* We realized that information warfare is occurring by nonstate actors in destabilizing the international order\n",
            "    80% of everyone who voted on statement 20 agreed.\n",
            "\n",
            "* 2018 has been marked by the troubling rise of authoritarian leaders around the world.\n",
            "    88% of everyone who voted on statement 39 agreed.\n",
            "\n",
            "* The conversation about ethical uses of technology has reached a tipping point. Citizens, businesses and governments are on it, but baffled.\n",
            "    77% of everyone who voted on statement 27 agreed.\n",
            "\n",
            "* 2018 was the year Americans stopped thinking Silicon Valley was “different” or distinct from Wall St or the military industrial complex\n",
            "    74% of everyone who voted on statement 23 agreed.\n",
            "\n",
            "## FOR DISAGREEMENT\n",
            "\n",
            "None.\n",
            "\n",
            "\n",
            "# GROUP-REPRESENTATIVE STATEMENTS\n",
            "\n",
            "## GROUP A\n",
            "\n",
            "* Major regulatory interference in the operation of Facebook's algorithms and policies is now definitely going to happen, in the USA.\n",
            "   100% of those in group A who voted on statement 11 agreed.\n",
            "\n",
            "* This year the SideWalk Labs project in Toronto brought the 'city of surveillance' discussion front and center.\n",
            "   100% of those in group A who voted on statement 33 agreed.\n",
            "\n",
            "* A significant number of governing elites lost fear of having an internet connected microphone in their house, listening to everything\n",
            "   80% of those in group A who voted on statement 17 agreed.\n",
            "\n",
            "* \"Access and Assistance\" laws passed by Australian Parliament give a blank cheque to any democracy that wants to install device backdoors.\n",
            "   100% of those in group A who voted on statement 36 agreed.\n",
            "\n",
            "* Facebook implementing local news and local government alerts directly into its product\n",
            "   100% of those in group A who voted on statement 15 disagreed.\n",
            "\n",
            "\n",
            "## GROUP B\n",
            "\n",
            "* Swing Left's campaign in waiting: building grassroots donors and volunteers during the primary, ready to go for the winning candidate.\n",
            "   55% of those in group B who voted on statement 38 agreed.\n",
            "\n",
            "\n",
            "## GROUP C\n",
            "\n",
            "* Cyber-security is still not taken seriously enough by most people in the politics-tech world.\n",
            "   100% of those in group C who voted on statement 5 agreed.\n",
            "\n",
            "* The realisation that the Republicans are now just as good at the parts of Digital comms that actually influence elections as the Democrats\n",
            "   80% of those in group C who voted on statement 16 disagreed.\n",
            "\n",
            "* Facebook implementing local news and local government alerts directly into its product\n",
            "   90% of those in group C who voted on statement 15 disagreed.\n",
            "\n",
            "* Cambridge Analytics was only an important scandal because it capture the attention of the political and media elite.\n",
            "   88% of those in group C who voted on statement 8 disagreed.\n",
            "\n",
            "* The endowment of Signal (the messaging app) with a large endowment, by one of the co-founders of WhatsApp.\n",
            "   70% of those in group C who voted on statement 14 disagreed.\n",
            "\n",
            "\n",
            "## GROUP D\n",
            "\n",
            "* Facebook implementing local news and local government alerts directly into its product\n",
            "   85% of those in group D who voted on statement 15 agreed.\n",
            "\n",
            "* Alexandria Ocasio-Cortez and the Instagram stories and live video, spinning up the Green New Deal — a modern FDR and fireside chats.\n",
            "   100% of those in group D who voted on statement 25 agreed.\n",
            "\n",
            "* A significant number of governing elites lost fear of having an internet connected microphone in their house, listening to everything\n",
            "   85% of those in group D who voted on statement 17 agreed.\n",
            "\n",
            "* The realisation that the Republicans are now just as good at the parts of Digital comms that actually influence elections as the Democrats\n",
            "   85% of those in group D who voted on statement 16 agreed.\n",
            "\n",
            "* Embarrassed by Facebook's role in the 2016 election, many social media companies deployed get-out-the-vote features on election day 2018.\n",
            "   80% of those in group D who voted on statement 34 agreed.\n",
            "\n",
            "\n",
            "## GROUP E\n",
            "\n",
            "* The realisation that the Republicans are now just as good at the parts of Digital comms that actually influence elections as the Democrats\n",
            "   83% of those in group E who voted on statement 16 agreed.\n",
            "\n",
            "* Major regulatory interference in the operation of Facebook's algorithms and policies is now definitely going to happen, in the USA.\n",
            "   100% of those in group E who voted on statement 11 disagreed.\n",
            "\n",
            "* The brutal silencing of Jamal Khashoggi is one of the most significant happenings of 2018\n",
            "   75% of those in group E who voted on statement 32 disagreed.\n",
            "\n",
            "* I came to realise that ultimately the internet had been more damaging for democracy than it was good for it.\n",
            "   83% of those in group E who voted on statement 13 disagreed.\n",
            "\n",
            "* The walkout by 20,000 Google workers over its history on sexual harassment issues was one of the biggest tech-politics developments of 2018.\n",
            "   83% of those in group E who voted on statement 6 disagreed.\n",
            "\n",
            "\n"
          ]
        }
      ]
    }
  ],
  "metadata": {
    "colab": {
      "provenance": [],
      "include_colab_link": true
    },
    "kernelspec": {
      "display_name": "Python 3",
      "name": "python3"
    },
    "language_info": {
      "name": "python"
    }
  },
  "nbformat": 4,
  "nbformat_minor": 0
}
