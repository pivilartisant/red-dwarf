{
  "cells": [
    {
      "cell_type": "markdown",
      "metadata": {
        "id": "view-in-github",
        "colab_type": "text"
      },
      "source": [
        "<a href=\"https://colab.research.google.com/github/polis-community/red-dwarf/blob/main/docs/notebooks/dup-votes.ipynb\" target=\"_parent\"><img src=\"https://colab.research.google.com/assets/colab-badge.svg\" alt=\"Open In Colab\"/></a>"
      ]
    },
    {
      "cell_type": "code",
      "execution_count": 1,
      "metadata": {
        "colab": {
          "base_uri": "https://localhost:8080/"
        },
        "id": "kEyVHx6y7zpu",
        "outputId": "9d4453d3-31ce-4aee-a022-448b1efae315"
      },
      "outputs": [
        {
          "output_type": "stream",
          "name": "stdout",
          "text": [
            "  Installing build dependencies ... \u001b[?25l\u001b[?25hdone\n",
            "  Getting requirements to build wheel ... \u001b[?25l\u001b[?25hdone\n",
            "  Preparing metadata (pyproject.toml) ... \u001b[?25l\u001b[?25hdone\n",
            "\u001b[2K     \u001b[90m━━━━━━━━━━━━━━━━━━━━━━━━━━━━━━━━━━━━━\u001b[0m \u001b[32m647.5/647.5 kB\u001b[0m \u001b[31m164.8 MB/s\u001b[0m eta \u001b[36m0:00:00\u001b[0m\n",
            "\u001b[?25h  Preparing metadata (setup.py) ... \u001b[?25l\u001b[?25hdone\n",
            "\u001b[2K   \u001b[90m━━━━━━━━━━━━━━━━━━━━━━━━━━━━━━━━━━━━━━━\u001b[0m \u001b[32m116.1/116.1 kB\u001b[0m \u001b[31m200.8 MB/s\u001b[0m eta \u001b[36m0:00:00\u001b[0m\n",
            "\u001b[2K   \u001b[90m━━━━━━━━━━━━━━━━━━━━━━━━━━━━━━━━━━━━━━━━\u001b[0m \u001b[32m161.7/161.7 kB\u001b[0m \u001b[31m80.9 MB/s\u001b[0m eta \u001b[36m0:00:00\u001b[0m\n",
            "\u001b[2K   \u001b[90m━━━━━━━━━━━━━━━━━━━━━━━━━━━━━━━━━━━━━━━━\u001b[0m \u001b[32m61.4/61.4 kB\u001b[0m \u001b[31m127.0 MB/s\u001b[0m eta \u001b[36m0:00:00\u001b[0m\n",
            "\u001b[2K   \u001b[90m━━━━━━━━━━━━━━━━━━━━━━━━━━━━━━━━━━━━━━━━\u001b[0m \u001b[32m69.4/69.4 kB\u001b[0m \u001b[31m145.4 MB/s\u001b[0m eta \u001b[36m0:00:00\u001b[0m\n",
            "\u001b[?25h  Building wheel for red-dwarf (pyproject.toml) ... \u001b[?25l\u001b[?25hdone\n",
            "  Building wheel for annoy (setup.py) ... \u001b[?25l\u001b[?25hdone\n"
          ]
        }
      ],
      "source": [
        "%pip install --quiet red-dwarf[all]@git+https://github.com/polis-community/red-dwarf.git@main"
      ]
    },
    {
      "cell_type": "code",
      "execution_count": 2,
      "metadata": {
        "id": "4Offyb7fPpUg"
      },
      "outputs": [],
      "source": [
        "CONVOS = {\n",
        "    # Topic: What were the most significant developments in tech and politics in 2018?\n",
        "    # 5 groups, 65 ptpts (56 grouped), 43 comments (open)\n",
        "    \"tech-politics-2018\": {\n",
        "        \"report_id\": \"r2dfw8eambusb8buvecjt\",\n",
        "        \"convo_id\": \"6jrufhr6dp\",\n",
        "    },\n",
        "    # Topic: How should we operate vehicle-for-hire, e.g. Uber, Lyft and taxis in Toronto?\n",
        "    # 2 groups, 47 ptpts (36 grouped), 69 comments (open)\n",
        "    \"rideshare-toronto\": {\n",
        "        \"report_id\": \"r8xhmkwp6shm9yfermteh\",\n",
        "        \"convo_id\": \"7vampckwrh\",\n",
        "    },\n",
        "}"
      ]
    },
    {
      "cell_type": "code",
      "execution_count": 9,
      "metadata": {
        "colab": {
          "base_uri": "https://localhost:8080/"
        },
        "id": "NkGdoHCy8RdA",
        "outputId": "f08b0a00-79f9-4f7d-cbc3-92570c6ec796"
      },
      "outputs": [
        {
          "output_type": "stream",
          "name": "stdout",
          "text": [
            "Loading data from report: https://pol.is/report/r2dfw8eambusb8buvecjt\n",
            "[{'conversation_id': None,\n",
            "  'datetime': 'Thu Oct 13 2022 11:54:34 GMT+0000 (Coordinated Universal Time)',\n",
            "  'modified': 1665662074000.0,\n",
            "  'participant_id': 64,\n",
            "  'statement_id': 40,\n",
            "  'vote': -1,\n",
            "  'weight_x_32767': None},\n",
            " {'conversation_id': None,\n",
            "  'datetime': 'Thu Oct 13 2022 11:54:31 GMT+0000 (Coordinated Universal Time)',\n",
            "  'modified': 1665662071000.0,\n",
            "  'participant_id': 64,\n",
            "  'statement_id': 42,\n",
            "  'vote': 1,\n",
            "  'weight_x_32767': None},\n",
            " {'conversation_id': None,\n",
            "  'datetime': 'Thu Jan 24 2019 10:50:13 GMT+0000 (Coordinated Universal Time)',\n",
            "  'modified': 1548327013000.0,\n",
            "  'participant_id': 63,\n",
            "  'statement_id': 23,\n",
            "  'vote': 1,\n",
            "  'weight_x_32767': None},\n",
            " {'conversation_id': None,\n",
            "  'datetime': 'Thu Jan 24 2019 10:50:11 GMT+0000 (Coordinated Universal Time)',\n",
            "  'modified': 1548327011000.0,\n",
            "  'participant_id': 63,\n",
            "  'statement_id': 25,\n",
            "  'vote': -1,\n",
            "  'weight_x_32767': None},\n",
            " {'conversation_id': None,\n",
            "  'datetime': 'Thu Jan 24 2019 10:50:05 GMT+0000 (Coordinated Universal Time)',\n",
            "  'modified': 1548327005000.0,\n",
            "  'participant_id': 63,\n",
            "  'statement_id': 41,\n",
            "  'vote': 1,\n",
            "  'weight_x_32767': None}]\n"
          ]
        }
      ],
      "source": [
        "from reddwarf.data_loader import Loader\n",
        "\n",
        "report_id = CONVOS[\"tech-politics-2018\"][\"report_id\"]\n",
        "print(f\"Loading data from report: https://pol.is/report/{report_id}\")\n",
        "\n",
        "# Load data with duplicate votes.\n",
        "loader = Loader(polis_id=report_id, data_source=\"csv_export\")\n",
        "\n",
        "from pprint import pprint\n",
        "\n",
        "pprint(loader.votes_data[:5])"
      ]
    }
  ],
  "metadata": {
    "colab": {
      "provenance": [],
      "include_colab_link": true
    },
    "kernelspec": {
      "display_name": "Python 3",
      "name": "python3"
    },
    "language_info": {
      "name": "python"
    }
  },
  "nbformat": 4,
  "nbformat_minor": 0
}
